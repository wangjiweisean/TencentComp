{
 "cells": [
  {
   "cell_type": "code",
   "execution_count": 28,
   "metadata": {
    "collapsed": true
   },
   "outputs": [],
   "source": [
    "import pandas as pd\n",
    "import numpy as np\n",
    "from sklearn import metrics\n",
    "from sklearn.model_selection import cross_val_score\n",
    "from sklearn.ensemble import ExtraTreesClassifier\n",
    "from sklearn.ensemble import RandomForestClassifier"
   ]
  },
  {
   "cell_type": "code",
   "execution_count": 2,
   "metadata": {
    "collapsed": true
   },
   "outputs": [],
   "source": [
    "conversion_train = pd.read_csv('pre/train.csv')"
   ]
  },
  {
   "cell_type": "code",
   "execution_count": 3,
   "metadata": {
    "collapsed": false
   },
   "outputs": [
    {
     "name": "stdout",
     "output_type": "stream",
     "text": [
      "Percentage of Label 1: 2.5%\n",
      "Percentage of Label 0: 97.5%\n"
     ]
    }
   ],
   "source": [
    "# Percentage of label 1 & 0 Instance\n",
    "print('Percentage of Label 1:','{:.1%}'.format(len(conversion_train[conversion_train['label'] == 1])/len(conversion_train)))\n",
    "print('Percentage of Label 0:','{:.1%}'.format(len(conversion_train[conversion_train['label'] == 0])/len(conversion_train)))"
   ]
  },
  {
   "cell_type": "code",
   "execution_count": 5,
   "metadata": {
    "collapsed": false
   },
   "outputs": [
    {
     "name": "stdout",
     "output_type": "stream",
     "text": [
      "amount of Label 1: 93262\n"
     ]
    }
   ],
   "source": [
    "print('amount of Label 1:', len(conversion_train[conversion_train['label'] == 1]))"
   ]
  },
  {
   "cell_type": "code",
   "execution_count": 8,
   "metadata": {
    "collapsed": true
   },
   "outputs": [],
   "source": [
    "y = conversion_train['label']\n",
    "X = conversion_train.drop (['label', 'conversionTime'], axis = 1)"
   ]
  },
  {
   "cell_type": "code",
   "execution_count": 10,
   "metadata": {
    "collapsed": false
   },
   "outputs": [
    {
     "name": "stdout",
     "output_type": "stream",
     "text": [
      "Accuracy:  1.0\n",
      "                  Importance\n",
      "clickTime           0.405981\n",
      "userID              0.378301\n",
      "positionID          0.108349\n",
      "creativeID          0.095870\n",
      "telecomsOperator    0.007467\n",
      "connectionType      0.004032\n"
     ]
    }
   ],
   "source": [
    "# Extra Tree classifier\n",
    "et_train = ExtraTreesClassifier()\n",
    "et_train.fit(X, y)\n",
    "\n",
    "# create predict value \n",
    "y_et = et_train.fit(X,y).predict(X)\n",
    "\n",
    "# check accuracy\n",
    "print(\"Accuracy: \", round(metrics.accuracy_score(y, y_et),2))\n",
    "\n",
    "# check feature importance score\n",
    "importfeature = pd.DataFrame(et_train.feature_importances_, columns = [\"Importance\"], index = X.columns).sort_values(['Importance'], ascending = False)\n",
    "print(importfeature)"
   ]
  },
  {
   "cell_type": "code",
   "execution_count": 4,
   "metadata": {
    "collapsed": false
   },
   "outputs": [],
   "source": [
    "ad = pd.read_csv('pre/ad.csv')\n",
    "train = pd.read_csv('pre/train.csv')\n",
    "test = pd.read_csv('pre/test.csv')"
   ]
  },
  {
   "cell_type": "code",
   "execution_count": 8,
   "metadata": {
    "collapsed": true
   },
   "outputs": [],
   "source": [
    "ad_train = ad.merge(train, on='creativeID')"
   ]
  },
  {
   "cell_type": "code",
   "execution_count": 19,
   "metadata": {
    "collapsed": false
   },
   "outputs": [
    {
     "name": "stdout",
     "output_type": "stream",
     "text": [
      "Average 10-fold Accuracy: 0.8\n",
      "              Importance\n",
      "advertiserID    0.244221\n",
      "appID           0.239816\n",
      "creativeID      0.185204\n",
      "camgaignID      0.180491\n",
      "adID            0.135621\n",
      "appPlatform     0.014647\n"
     ]
    }
   ],
   "source": [
    "ad_y = ad_train['label']\n",
    "ad_X = ad_train.drop (['label', 'conversionTime', 'connectionType','telecomsOperator', 'clickTime', 'userID', 'positionID'], axis = 1)\n",
    "\n",
    "# Extra Tree classifier\n",
    "et_ad_train = ExtraTreesClassifier()\n",
    "et_ad_train.fit(ad_X, ad_y)\n",
    "\n",
    "# create predict value \n",
    "ad_y_et = et_ad_train.fit(ad_X,ad_y).predict(ad_X)\n",
    "\n",
    "# Perform 10-fold Cross-Validation\n",
    "print('Average 10-fold Accuracy:', round(np.mean(cross_val_score(et_ad_train, ad_X, ad_y, cv=10, scoring='accuracy')),2))\n",
    "\n",
    "# check feature importance score\n",
    "importfeature = pd.DataFrame(et_ad_train.feature_importances_, columns = [\"Importance\"], index = ad_X.columns).sort_values(['Importance'], ascending = False)\n",
    "print(importfeature)"
   ]
  },
  {
   "cell_type": "code",
   "execution_count": 30,
   "metadata": {
    "collapsed": false
   },
   "outputs": [
    {
     "name": "stdout",
     "output_type": "stream",
     "text": [
      "Average 10-fold Accuracy: 0.98\n",
      "              Importance\n",
      "advertiserID    0.467968\n",
      "appID           0.287404\n",
      "creativeID      0.095064\n",
      "adID            0.084437\n",
      "camgaignID      0.055016\n",
      "appPlatform     0.010111\n"
     ]
    }
   ],
   "source": [
    "ad_y = ad_train['label']\n",
    "ad_X = ad_train.drop (['label', 'conversionTime', 'connectionType','telecomsOperator', 'clickTime', 'userID', 'positionID'], axis = 1)\n",
    "\n",
    "# Extra Tree classifier\n",
    "rf_ad_train = RandomForestClassifier(max_depth=5)\n",
    "rf_ad_train.fit(ad_X, ad_y)\n",
    "\n",
    "# create predict value \n",
    "ad_y_rf = rf_ad_train.fit(ad_X,ad_y).predict(ad_X)\n",
    "\n",
    "# Perform 10-fold Cross-Validation\n",
    "print('Average 10-fold Accuracy:', round(np.mean(cross_val_score(rf_ad_train, ad_X, ad_y, cv=10, scoring='accuracy')),2))\n",
    "\n",
    "# check feature importance score\n",
    "importfeature = pd.DataFrame(rf_ad_train.feature_importances_, columns = [\"Importance\"], index = ad_X.columns).sort_values(['Importance'], ascending = False)\n",
    "print(importfeature)"
   ]
  },
  {
   "cell_type": "code",
   "execution_count": 20,
   "metadata": {
    "collapsed": true
   },
   "outputs": [],
   "source": [
    "position = pd.read_csv('pre/position.csv')\n",
    "train = pd.read_csv('pre/train.csv')\n",
    "test = pd.read_csv('pre/test.csv')"
   ]
  },
  {
   "cell_type": "code",
   "execution_count": 21,
   "metadata": {
    "collapsed": false
   },
   "outputs": [],
   "source": [
    "position_train = position.merge(train, on='positionID')"
   ]
  },
  {
   "cell_type": "code",
   "execution_count": 22,
   "metadata": {
    "collapsed": false
   },
   "outputs": [
    {
     "name": "stdout",
     "output_type": "stream",
     "text": [
      "Average 10-fold Accuracy: 0.57\n",
      "              Importance\n",
      "positionID      0.646511\n",
      "sitesetID       0.227305\n",
      "positionType    0.126184\n"
     ]
    }
   ],
   "source": [
    "position_y = position_train['label']\n",
    "position_X = position_train.drop (['label', 'conversionTime', 'connectionType','telecomsOperator', 'clickTime', 'userID', 'creativeID'], axis = 1)\n",
    "\n",
    "# Extra Tree classifier\n",
    "et_position_train = ExtraTreesClassifier()\n",
    "et_position_train.fit(position_X, position_y)\n",
    "\n",
    "# create predict value \n",
    "position_y_et = et_position_train.fit(position_X,position_y).predict(position_X)\n",
    "\n",
    "# Perform 10-fold Cross-Validation\n",
    "print('Average 10-fold Accuracy:', round(np.mean(cross_val_score(et_position_train, position_X, position_y, cv=10, scoring='accuracy')),2))\n",
    "\n",
    "# check feature importance score\n",
    "importfeature = pd.DataFrame(et_position_train.feature_importances_, columns = [\"Importance\"], index = position_X.columns).sort_values(['Importance'], ascending = False)\n",
    "print(importfeature)"
   ]
  },
  {
   "cell_type": "code",
   "execution_count": 29,
   "metadata": {
    "collapsed": false
   },
   "outputs": [
    {
     "name": "stdout",
     "output_type": "stream",
     "text": [
      "Average 10-fold Accuracy: 0.57\n",
      "              Importance\n",
      "sitesetID       0.400982\n",
      "positionType    0.363378\n",
      "positionID      0.235641\n"
     ]
    }
   ],
   "source": [
    "position_y = position_train['label']\n",
    "position_X = position_train.drop (['label', 'conversionTime', 'connectionType','telecomsOperator', 'clickTime', 'userID', 'creativeID'], axis = 1)\n",
    "\n",
    "# Random Forest \n",
    "rf_position_train = RandomForestClassifier(max_depth=5)\n",
    "rf_position_train.fit(position_X, position_y)\n",
    "\n",
    "# create predict value \n",
    "position_y_rf = rf_position_train.fit(position_X,position_y).predict(position_X)\n",
    "\n",
    "# Perform 10-fold Cross-Validation\n",
    "print('Average 10-fold Accuracy:', round(np.mean(cross_val_score(et_position_train, position_X, position_y, cv=10, scoring='accuracy')),2))\n",
    "\n",
    "# check feature importance score\n",
    "importfeature = pd.DataFrame(rf_position_train.feature_importances_, columns = [\"Importance\"], index = position_X.columns).sort_values(['Importance'], ascending = False)\n",
    "print(importfeature)"
   ]
  },
  {
   "cell_type": "code",
   "execution_count": 23,
   "metadata": {
    "collapsed": true
   },
   "outputs": [],
   "source": [
    "user = pd.read_csv('pre/user.csv')\n",
    "train = pd.read_csv('pre/train.csv')\n",
    "test = pd.read_csv('pre/test.csv')"
   ]
  },
  {
   "cell_type": "code",
   "execution_count": 24,
   "metadata": {
    "collapsed": true
   },
   "outputs": [],
   "source": [
    "user_train = user.merge(train, on='userID')"
   ]
  },
  {
   "cell_type": "code",
   "execution_count": 25,
   "metadata": {
    "collapsed": false
   },
   "outputs": [
    {
     "name": "stdout",
     "output_type": "stream",
     "text": [
      "Average 10-fold Accuracy: 0.97\n",
      "                Importance\n",
      "userID            0.430214\n",
      "residence         0.216464\n",
      "age               0.167815\n",
      "hometown          0.141433\n",
      "education         0.027097\n",
      "haveBaby          0.007770\n",
      "marriageStatus    0.007246\n",
      "gender            0.001961\n"
     ]
    }
   ],
   "source": [
    "user_y = user_train['label']\n",
    "user_X = user_train.drop (['label', 'conversionTime', 'connectionType','telecomsOperator', 'clickTime', 'positionID', 'creativeID'], axis = 1)\n",
    "\n",
    "# Extra Tree classifier\n",
    "et_user_train = ExtraTreesClassifier()\n",
    "et_user_train.fit(user_X, user_y)\n",
    "\n",
    "# create predict value \n",
    "user_y_et = et_user_train.fit(user_X,user_y).predict(user_X)\n",
    "\n",
    "# Perform 10-fold Cross-Validation\n",
    "print('Average 10-fold Accuracy:', round(np.mean(cross_val_score(et_user_train, user_X, user_y, cv=10, scoring='accuracy')),2))\n",
    "\n",
    "# check feature importance score\n",
    "importfeature = pd.DataFrame(et_user_train.feature_importances_, columns = [\"Importance\"], index = user_X.columns).sort_values(['Importance'], ascending = False)\n",
    "print(importfeature)"
   ]
  },
  {
   "cell_type": "code",
   "execution_count": 31,
   "metadata": {
    "collapsed": false
   },
   "outputs": [
    {
     "name": "stdout",
     "output_type": "stream",
     "text": [
      "Average 10-fold Accuracy: 0.98\n",
      "                Importance\n",
      "education         0.216283\n",
      "hometown          0.188332\n",
      "gender            0.180405\n",
      "age               0.150618\n",
      "haveBaby          0.141069\n",
      "residence         0.075024\n",
      "marriageStatus    0.027073\n",
      "userID            0.021196\n"
     ]
    }
   ],
   "source": [
    "user_y = user_train['label']\n",
    "user_X = user_train.drop (['label', 'conversionTime', 'connectionType','telecomsOperator', 'clickTime', 'positionID', 'creativeID'], axis = 1)\n",
    "\n",
    "# Extra Tree classifier\n",
    "rf_user_train = RandomForestClassifier(max_depth=5)\n",
    "rf_user_train.fit(user_X, user_y)\n",
    "\n",
    "# create predict value \n",
    "user_y_rf = rf_user_train.fit(user_X,user_y).predict(user_X)\n",
    "\n",
    "# Perform 10-fold Cross-Validation\n",
    "print('Average 10-fold Accuracy:', round(np.mean(cross_val_score(rf_user_train, user_X, user_y, cv=10, scoring='accuracy')),2))\n",
    "\n",
    "# check feature importance score\n",
    "importfeature = pd.DataFrame(rf_user_train.feature_importances_, columns = [\"Importance\"], index = user_X.columns).sort_values(['Importance'], ascending = False)\n",
    "print(importfeature)"
   ]
  },
  {
   "cell_type": "code",
   "execution_count": null,
   "metadata": {
    "collapsed": true
   },
   "outputs": [],
   "source": []
  }
 ],
 "metadata": {
  "kernelspec": {
   "display_name": "Python 3",
   "language": "python",
   "name": "python3"
  },
  "language_info": {
   "codemirror_mode": {
    "name": "ipython",
    "version": 3
   },
   "file_extension": ".py",
   "mimetype": "text/x-python",
   "name": "python",
   "nbconvert_exporter": "python",
   "pygments_lexer": "ipython3",
   "version": "3.5.1"
  }
 },
 "nbformat": 4,
 "nbformat_minor": 0
}
